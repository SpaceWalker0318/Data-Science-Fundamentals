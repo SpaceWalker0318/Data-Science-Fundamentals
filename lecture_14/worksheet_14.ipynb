{
 "cells": [
  {
   "attachments": {},
   "cell_type": "markdown",
   "metadata": {},
   "source": [
    "# Worksheet 14\n",
    "\n",
    "Name:  \n",
    "UID: \n",
    "\n",
    "### Topics\n",
    "\n",
    "- Naive Bayes\n",
    "- Model Evaluation\n",
    "\n",
    "### Naive Bayes\n",
    "\n",
    "| Attribute A | Attribute B | Attribute C | Class |\n",
    "|-------------|-------------|-------------|-------|\n",
    "| Yes         | Single      | High        | No    |\n",
    "| No          | Married     | Mid         | No    |\n",
    "| No          | Single      | Low         | No    |\n",
    "| Yes         | Married     | High        | No    |\n",
    "| No          | Divorced    | Mid         | Yes   |\n",
    "| No          | Married     | Low         | No    |\n",
    "| Yes         | Divorced    | High        | No    |\n",
    "| No          | Single      | Mid         | Yes   |\n",
    "| No          | Married     | Low         | No    |\n",
    "| No          | Single      | Mid         | Yes   |\n",
    "\n",
    "a) Compute the following probabilities:\n",
    "\n",
    "- P(Attribute A = Yes | Class = No)\n",
    "- P(Attribute B = Divorced | Class = Yes)\n",
    "- P(Attribute C = High | Class = No)\n",
    "- P(Attribute C = Mid | Class = Yes)"
   ]
  },
  {
   "cell_type": "markdown",
   "metadata": {},
   "source": [
    "**Answer:**\n",
    "- $P(Attribute A = Yes | Class = No) = 3/7$\n",
    "- $P(Attribute B = Divorced | Class = Yes) = 1/3$\n",
    "- $P(Attribute C = High | Class = No) = 3/7$\n",
    "- $P(Attribute C = Mid | Class = Yes) = 2/3$"
   ]
  },
  {
   "cell_type": "markdown",
   "metadata": {},
   "source": [
    "b) Classify the following unseen records:\n",
    "\n",
    "- (Yes, Married, Mid)\n",
    "- (No, Divorced, High)\n",
    "- (No, Single, High)\n",
    "- (No, Divorced, Low)"
   ]
  },
  {
   "cell_type": "markdown",
   "metadata": {},
   "source": [
    "**Answer:**\n",
    "(Yes, Married, Mid) is classified as Class=No.\n",
    "(No, Divorced, High) is classified as Class=No.\n",
    "(No, Single, High) is classified as Class=No.\n",
    "(No, Divorced, Low) is classified as Class=No"
   ]
  },
  {
   "cell_type": "markdown",
   "metadata": {},
   "source": [
    "### Model Evaluation\n",
    "\n",
    "a) Write a function to generate the confusion matrix for a list of actual classes and a list of predicted classes"
   ]
  },
  {
   "cell_type": "code",
   "execution_count": 1,
   "metadata": {},
   "outputs": [
    {
     "name": "stdout",
     "output_type": "stream",
     "text": [
      "{'TP': 2, 'FP': 3, 'TN': 4, 'FN': 1}\n"
     ]
    }
   ],
   "source": [
    "actual_class = [\"Yes\", \"No\", \"No\", \"Yes\", \"No\", \"No\", \"Yes\", \"No\", \"No\", \"No\"]\n",
    "predicted_class = [\"Yes\", \"No\", \"Yes\", \"No\", \"No\", \"No\", \"Yes\", \"Yes\", \"Yes\", \"No\"]\n",
    "\n",
    "def confusion_matrix(actual, predicted):\n",
    "    TP = sum(1 for a, p in zip(actual, predicted) if a == \"Yes\" and p == \"Yes\")\n",
    "    FP = sum(1 for a, p in zip(actual, predicted) if a == \"No\" and p == \"Yes\")\n",
    "    TN = sum(1 for a, p in zip(actual, predicted) if a == \"No\" and p == \"No\")\n",
    "    FN = sum(1 for a, p in zip(actual, predicted) if a == \"Yes\" and p == \"No\")\n",
    "    \n",
    "    return {\"TP\": TP, \"FP\": FP, \"TN\": TN, \"FN\": FN}\n",
    "\n",
    "print(confusion_matrix(actual_class, predicted_class))"
   ]
  },
  {
   "cell_type": "markdown",
   "metadata": {},
   "source": [
    "b) Assume you have the following Cost Matrix:\n",
    "\n",
    "|            | predicted = Y | predicted = N |\n",
    "|------------|---------------|---------------|\n",
    "| actual = Y |       -1      |       5       |\n",
    "| actual = N |        10     |       0       |\n",
    "\n",
    "What is the cost of the above classification?"
   ]
  },
  {
   "cell_type": "markdown",
   "metadata": {},
   "source": [
    "Cost of TP (actual = Y and predicted = Y): -1\n",
    "Cost of FP (actual = N and predicted = Y): 10\n",
    "Cost of TN (actual = N and predicted = N): 0\n",
    "Cost of FN (actual = Y and predicted = N): 5\n",
    "\n",
    "Total cost = (-1 * 2) + (10 * 3) + (0 * 4) + (5 * 1)\n",
    "           = -2 + 30 + 0 + 5\n",
    "           = 33"
   ]
  },
  {
   "cell_type": "markdown",
   "metadata": {},
   "source": [
    "c) Write a function that takes in the actual values, the predictions, and a cost matrix and outputs a cost. Test it on the above example."
   ]
  },
  {
   "cell_type": "code",
   "execution_count": 2,
   "metadata": {},
   "outputs": [
    {
     "name": "stdout",
     "output_type": "stream",
     "text": [
      "33\n"
     ]
    }
   ],
   "source": [
    "def compute_cost(actual, predicted, cost_matrix):\n",
    "    TP = sum(1 for a, p in zip(actual, predicted) if a == \"Yes\" and p == \"Yes\")\n",
    "    FP = sum(1 for a, p in zip(actual, predicted) if a == \"No\" and p == \"Yes\")\n",
    "    TN = sum(1 for a, p in zip(actual, predicted) if a == \"No\" and p == \"No\")\n",
    "    FN = sum(1 for a, p in zip(actual, predicted) if a == \"Yes\" and p == \"No\")\n",
    "    total_cost = (TP * cost_matrix[\"TP\"]) + (FP * cost_matrix[\"FP\"]) + (TN * cost_matrix[\"TN\"]) + (FN * cost_matrix[\"FN\"])\n",
    "    \n",
    "    return total_cost\n",
    "\n",
    "actual_class = [\"Yes\", \"No\", \"No\", \"Yes\", \"No\", \"No\", \"Yes\", \"No\", \"No\", \"No\"]\n",
    "predicted_class = [\"Yes\", \"No\", \"Yes\", \"No\", \"No\", \"No\", \"Yes\", \"Yes\", \"Yes\", \"No\"]\n",
    "cost_matrix = {\n",
    "    \"TP\": -1,  \n",
    "    \"FP\": 10,  \n",
    "    \"TN\": 0,   \n",
    "    \"FN\": 5   \n",
    "}\n",
    "\n",
    "print(compute_cost(actual_class, predicted_class, cost_matrix))\n"
   ]
  },
  {
   "cell_type": "markdown",
   "metadata": {},
   "source": [
    "d) Implement functions for the following:\n",
    "\n",
    "- accuracy\n",
    "- precision\n",
    "- recall\n",
    "- f-measure\n",
    "\n",
    "and apply them to the above example."
   ]
  },
  {
   "cell_type": "code",
   "execution_count": 4,
   "metadata": {},
   "outputs": [
    {
     "name": "stdout",
     "output_type": "stream",
     "text": [
      "Accuracy: 0.6\n",
      "Precision: 0.4\n",
      "Recall: 0.6666666666666666\n",
      "F-Measure: 0.5\n"
     ]
    }
   ],
   "source": [
    "def accuracy(TP, FP, TN, FN):\n",
    "    return (TP + TN) / (TP + TN + FP + FN)\n",
    "\n",
    "def precision(TP, FP):\n",
    "    return TP / (TP + FP)\n",
    "\n",
    "def recall(TP, FN):\n",
    "    return TP / (TP + FN)\n",
    "\n",
    "def f_measure(precision_value, recall_value):\n",
    "    return 2 * (precision_value * recall_value) / (precision_value + recall_value)\n",
    "\n",
    "TP = sum(1 for a, p in zip(actual_class, predicted_class) if a == \"Yes\" and p == \"Yes\")\n",
    "FP = sum(1 for a, p in zip(actual_class, predicted_class) if a == \"No\" and p == \"Yes\")\n",
    "TN = sum(1 for a, p in zip(actual_class, predicted_class) if a == \"No\" and p == \"No\")\n",
    "FN = sum(1 for a, p in zip(actual_class, predicted_class) if a == \"Yes\" and p == \"No\")\n",
    "\n",
    "print(\"Accuracy:\", accuracy(TP, FP, TN, FN))\n",
    "print(\"Precision:\", precision(TP, FP))\n",
    "print(\"Recall:\", recall(TP, FN))\n",
    "print(\"F-Measure:\", f_measure(precision(TP, FP), recall(TP, FN)))"
   ]
  }
 ],
 "metadata": {
  "kernelspec": {
   "display_name": "Python 3",
   "language": "python",
   "name": "python3"
  },
  "language_info": {
   "codemirror_mode": {
    "name": "ipython",
    "version": 3
   },
   "file_extension": ".py",
   "mimetype": "text/x-python",
   "name": "python",
   "nbconvert_exporter": "python",
   "pygments_lexer": "ipython3",
   "version": "3.8.5"
  },
  "orig_nbformat": 4,
  "vscode": {
   "interpreter": {
    "hash": "e7370f93d1d0cde622a1f8e1c04877d8463912d04d973331ad4851f04de6915a"
   }
  }
 },
 "nbformat": 4,
 "nbformat_minor": 2
}

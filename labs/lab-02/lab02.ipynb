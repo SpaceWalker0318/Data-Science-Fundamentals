{
 "cells": [
  {
   "attachments": {},
   "cell_type": "markdown",
   "metadata": {},
   "source": [
    "## Lab 02 - Pandas and Data Visualization\n",
    "This notebook will introduce you to the basics of Pandas and Data Visualization. You will learn how to load data into a Pandas DataFrame, how to perform basic data analysis, and how to visualize data. The first part of this notebook will be an interactive tutorial, and the second part will be practice exercises for you to do! **Note that the practice problems will be checked when submitted!**"
   ]
  },
  {
   "cell_type": "markdown",
   "metadata": {},
   "source": [
    "#### Pandas\n",
    "Pandas is a popular open-source Python library that provides data structures and data analysis tools for working with structured data. Pandas is a versatile library that simplifies data manipulation, analysis, and exploration in Python. Some of its uses:\n",
    "* Tabular Data Handling\n",
    "* Data Cleaning and Transformation\n",
    "* Data Exploration\n",
    "* Data Import/Export\n",
    "* Data Visualization\n",
    "\n",
    "#### Matplotlib\n",
    "Matplotlib is a widely used for creating static, animated, and interactive visualizations. Whether you are conducting data analysis, scientific research, or data communication, Matplotlib helps you present your findings effectively and intuitively."
   ]
  },
  {
   "attachments": {},
   "cell_type": "markdown",
   "metadata": {},
   "source": [
    "### Pre-requisites"
   ]
  },
  {
   "cell_type": "code",
   "execution_count": 19,
   "metadata": {},
   "outputs": [],
   "source": [
    "# In case you don't have pandas, uncomment\n",
    "# the following lines and run the cell\n",
    "\n",
    "# %pip install pandas"
   ]
  },
  {
   "attachments": {},
   "cell_type": "markdown",
   "metadata": {},
   "source": [
    "### Overview\n",
    "In this notebook, you will be learning how to use the Pandas library by working with the `cookies.csv` file. \n",
    "\n",
    "#### `cookies.csv` file :\n",
    "\n",
    "The `cookies.csv` file contains information about cookies that were made in Rico's Bisquito's factory. \n",
    "\n",
    "The columns are the following:\n",
    "\n",
    "`cookie`: the name of a cookie\n",
    "`ingredients`: a list of the cookie's ingredients\n",
    "`calories`: the number of calories the created cookie has\n",
    "`radius`: the radius of the created cookie, in cm\n",
    "`cost_to_make`: the cost it took to make the created cookie, in dollars"
   ]
  },
  {
   "attachments": {},
   "cell_type": "markdown",
   "metadata": {},
   "source": [
    "### Reading the CSV file\n",
    "\n",
    "First, we need to import the Pandas library. We will be using the `pd` alias for the Pandas library."
   ]
  },
  {
   "cell_type": "code",
   "execution_count": 20,
   "metadata": {},
   "outputs": [],
   "source": [
    "#TODO: import pandas and matplotlib in this cell\n",
    "import pandas as pd\n",
    "import matplotlib.pyplot as plt\n"
   ]
  },
  {
   "attachments": {},
   "cell_type": "markdown",
   "metadata": {},
   "source": [
    "We will now look at the `cookies.csv` file. We will use the `pd.read_csv()` function to read in the CSV file. We will store the data in a variable called `cookies`."
   ]
  },
  {
   "cell_type": "code",
   "execution_count": 21,
   "metadata": {},
   "outputs": [],
   "source": [
    "#TODO: read the cookies.csv file into a pandas dataframe\n",
    "cookies = pd.read_csv('cookies.csv')"
   ]
  },
  {
   "attachments": {},
   "cell_type": "markdown",
   "metadata": {},
   "source": [
    "#### Dataframe\n",
    "Dataframes are a data structure that Pandas uses to store data. Dataframes are similar to tables in a database. Dataframes have rows and columns. Each row represents a single data point, and each column represents a feature of the data point."
   ]
  },
  {
   "attachments": {},
   "cell_type": "markdown",
   "metadata": {},
   "source": [
    "We will then make sure we imported the data correctly by printing out the first 10 rows of the data, using the `head()` function."
   ]
  },
  {
   "cell_type": "code",
   "execution_count": 22,
   "metadata": {},
   "outputs": [
    {
     "name": "stdout",
     "output_type": "stream",
     "text": [
      "            cookie                                        ingredients  \\\n",
      "0     laddoo lemon             [\"flour\",\"lemon juice\",\"sugar\",\"ghee\"]   \n",
      "1  red velvet rauw  [\"flour\",\"cocoa powder\",\"butter\",\"red food col...   \n",
      "2         nevadito  [\"flour\",\"chocolate chips\",\"milk\",\"vanilla ext...   \n",
      "3  red velvet rauw  [\"flour\",\"cocoa powder\",\"butter\",\"red food col...   \n",
      "4  bad berry bunny           [\"flour\",\"blueberries\",\"sugar\",\"butter\"]   \n",
      "\n",
      "   calories  radius  cost_to_make  \n",
      "0       170   3.102          0.67  \n",
      "1       198   3.780          1.07  \n",
      "2       224   4.069          1.04  \n",
      "3       198   3.780          1.07  \n",
      "4       191   4.148          1.39  \n"
     ]
    }
   ],
   "source": [
    "#TODO: print the head of the dataframe\n",
    "print(cookies.head())"
   ]
  },
  {
   "attachments": {},
   "cell_type": "markdown",
   "metadata": {},
   "source": [
    "### Checking data types\n",
    "You can check the data types of each column using the `dtypes` attribute of the DataFrame."
   ]
  },
  {
   "cell_type": "code",
   "execution_count": 23,
   "metadata": {},
   "outputs": [
    {
     "name": "stdout",
     "output_type": "stream",
     "text": [
      "cookie           object\n",
      "ingredients      object\n",
      "calories          int64\n",
      "radius          float64\n",
      "cost_to_make    float64\n",
      "dtype: object\n"
     ]
    }
   ],
   "source": [
    "#TODO: check the data types of the columns\n",
    "\n",
    "print(cookies.dtypes)"
   ]
  },
  {
   "cell_type": "markdown",
   "metadata": {},
   "source": [
    "Now, lets use use `info()` function to get more information about the Dataframe"
   ]
  },
  {
   "cell_type": "code",
   "execution_count": 24,
   "metadata": {},
   "outputs": [
    {
     "name": "stdout",
     "output_type": "stream",
     "text": [
      "<class 'pandas.core.frame.DataFrame'>\n",
      "RangeIndex: 129 entries, 0 to 128\n",
      "Data columns (total 5 columns):\n",
      " #   Column        Non-Null Count  Dtype  \n",
      "---  ------        --------------  -----  \n",
      " 0   cookie        129 non-null    object \n",
      " 1   ingredients   129 non-null    object \n",
      " 2   calories      129 non-null    int64  \n",
      " 3   radius        129 non-null    float64\n",
      " 4   cost_to_make  114 non-null    float64\n",
      "dtypes: float64(2), int64(1), object(2)\n",
      "memory usage: 5.2+ KB\n",
      "None\n"
     ]
    }
   ],
   "source": [
    "# TODO: use info() to get information about datatypes and null values\n",
    "\n",
    "print(cookies.info())"
   ]
  },
  {
   "attachments": {},
   "cell_type": "markdown",
   "metadata": {},
   "source": [
    "### Cleaning the data\n",
    "Now that we have the data, we need to clean it. For example, some `cost_to_make` fields of some created cookies are missing. To resolve this, we can do many things: we can replace the missing data with the mean of the column, or we can get rid of the row entirely if the `cost_to_make` field is not set. "
   ]
  },
  {
   "cell_type": "code",
   "execution_count": 25,
   "metadata": {},
   "outputs": [
    {
     "name": "stdout",
     "output_type": "stream",
     "text": [
      "<class 'pandas.core.frame.DataFrame'>\n",
      "Int64Index: 114 entries, 0 to 128\n",
      "Data columns (total 5 columns):\n",
      " #   Column        Non-Null Count  Dtype  \n",
      "---  ------        --------------  -----  \n",
      " 0   cookie        114 non-null    object \n",
      " 1   ingredients   114 non-null    object \n",
      " 2   calories      114 non-null    int64  \n",
      " 3   radius        114 non-null    float64\n",
      " 4   cost_to_make  114 non-null    float64\n",
      "dtypes: float64(2), int64(1), object(2)\n",
      "memory usage: 5.3+ KB\n",
      "None\n"
     ]
    }
   ],
   "source": [
    "#TODO: clean the dataframe and \n",
    "# print the head again to make sure \n",
    "# the changes took effect\n",
    "\n",
    "cookies = cookies.dropna()\n",
    "print(cookies.info())"
   ]
  },
  {
   "attachments": {},
   "cell_type": "markdown",
   "metadata": {},
   "source": [
    "To also make sure we removed null values, we can check the number of null values in each column using the `isnull()` function."
   ]
  },
  {
   "cell_type": "code",
   "execution_count": 26,
   "metadata": {},
   "outputs": [
    {
     "name": "stdout",
     "output_type": "stream",
     "text": [
      "cookie          0\n",
      "ingredients     0\n",
      "calories        0\n",
      "radius          0\n",
      "cost_to_make    0\n",
      "dtype: int64\n"
     ]
    }
   ],
   "source": [
    "#TODO: use the isnull method to make sure your data is clean\n",
    "\n",
    "print(cookies.isnull().sum())"
   ]
  },
  {
   "cell_type": "markdown",
   "metadata": {},
   "source": [
    "Next, lets check for duplicate rows using the `duplicated()` function. Then, remove those rows using `drop_duplicates()` function."
   ]
  },
  {
   "cell_type": "code",
   "execution_count": 27,
   "metadata": {},
   "outputs": [
    {
     "name": "stdout",
     "output_type": "stream",
     "text": [
      "11\n",
      "0\n"
     ]
    }
   ],
   "source": [
    "# TODO: check for duplicate rows\n",
    "# then delete those rows form df\n",
    "\n",
    "print(cookies.duplicated().sum())\n",
    "cookies = cookies.drop_duplicates()\n",
    "print(cookies.duplicated().sum())"
   ]
  },
  {
   "attachments": {},
   "cell_type": "markdown",
   "metadata": {},
   "source": [
    "### Parsing the data\n",
    "Now that we have the data, we could parse it to get the information we want. For example, we can check what types of cookies were made by using the `unique()` function on the `cookie` column."
   ]
  },
  {
   "cell_type": "code",
   "execution_count": 28,
   "metadata": {},
   "outputs": [
    {
     "name": "stdout",
     "output_type": "stream",
     "text": [
      "['laddoo lemon' 'red velvet rauw' 'nevadito' 'bad berry bunny'\n",
      " 'orange ozuna' 'minty miami' 'chocolate']\n"
     ]
    }
   ],
   "source": [
    "#TODO: see what cookies are in the dataset\n",
    "\n",
    "print(cookies.cookie.unique())"
   ]
  },
  {
   "attachments": {},
   "cell_type": "markdown",
   "metadata": {},
   "source": [
    "We can also check the number of cookies made by using the `value_counts()` function on the `cookie` column."
   ]
  },
  {
   "cell_type": "code",
   "execution_count": 29,
   "metadata": {},
   "outputs": [
    {
     "name": "stdout",
     "output_type": "stream",
     "text": [
      "red velvet rauw    17\n",
      "orange ozuna       16\n",
      "minty miami        15\n",
      "bad berry bunny    15\n",
      "nevadito           15\n",
      "laddoo lemon       13\n",
      "chocolate          12\n",
      "Name: cookie, dtype: int64\n"
     ]
    }
   ],
   "source": [
    "#TODO: use value_counts() to see how many \n",
    "# cookies of each type there are\n",
    "\n",
    "print(cookies.cookie.value_counts())"
   ]
  },
  {
   "attachments": {},
   "cell_type": "markdown",
   "metadata": {},
   "source": [
    "Or maybe we don't like how long the names of the cookies are, so we can shorten them by using the `replace()` function on the `cookie` column.\n",
    "\n",
    "For example, let's try changing `\"bad berry bunny\"` to `\"bbb\"`."
   ]
  },
  {
   "cell_type": "code",
   "execution_count": 30,
   "metadata": {},
   "outputs": [
    {
     "name": "stdout",
     "output_type": "stream",
     "text": [
      "red velvet rauw    17\n",
      "orange ozuna       16\n",
      "minty miami        15\n",
      "bbb                15\n",
      "nevadito           15\n",
      "laddoo lemon       13\n",
      "chocolate          12\n",
      "Name: cookie, dtype: int64\n"
     ]
    }
   ],
   "source": [
    "#TODO: change bad berry bunny data elements to \"bbb\"\n",
    "\n",
    "cookies.cookie = cookies.cookie.replace('bad berry bunny', 'bbb')\n",
    "print(cookies.cookie.value_counts())"
   ]
  },
  {
   "attachments": {},
   "cell_type": "markdown",
   "metadata": {},
   "source": [
    "We may even like the original names better, but we may want to get rid of the spaces. For example, we can change `\"orange ozuna\"` to `\"orange_ozuna\"`. Here, we will use the `str.replace()` function."
   ]
  },
  {
   "cell_type": "code",
   "execution_count": 31,
   "metadata": {},
   "outputs": [
    {
     "name": "stdout",
     "output_type": "stream",
     "text": [
      "red velvet rauw    17\n",
      "orange_ozuna       16\n",
      "minty miami        15\n",
      "bbb                15\n",
      "nevadito           15\n",
      "laddoo lemon       13\n",
      "chocolate          12\n",
      "Name: cookie, dtype: int64\n"
     ]
    }
   ],
   "source": [
    "#TODO: adjust orange ozuna as described\n",
    "\n",
    "cookies.cookie = cookies.cookie.replace('orange ozuna', 'orange_ozuna')\n",
    "print(cookies.cookie.value_counts())"
   ]
  },
  {
   "attachments": {},
   "cell_type": "markdown",
   "metadata": {},
   "source": [
    "We may even just want to keep the first word of the cookie name. For example, we can change `\"orange_ozuna\"` to `\"orange\"`."
   ]
  },
  {
   "cell_type": "code",
   "execution_count": 53,
   "metadata": {},
   "outputs": [
    {
     "name": "stdout",
     "output_type": "stream",
     "text": [
      "red             17\n",
      "orange_ozuna    16\n",
      "bbb             15\n",
      "minty           15\n",
      "nevadito        15\n",
      "laddoo          13\n",
      "chocolate       12\n",
      "Name: cookie, dtype: int64\n"
     ]
    }
   ],
   "source": [
    "#TODO: adjust all cookies so only the first word\n",
    "# is used as the cookie name\n",
    "\n",
    "cookies.cookie = cookies.cookie.str.split().str[0]\n",
    "print(cookies.cookie.value_counts())"
   ]
  },
  {
   "attachments": {},
   "cell_type": "markdown",
   "metadata": {},
   "source": [
    "Another thing that may come to mind is that maybe getting flour could cost more money due to inflation, so we have to adjust our `cost_to_make` values. We can do this by using the `apply()` function on the `cost_to_make` column."
   ]
  },
  {
   "cell_type": "code",
   "execution_count": 55,
   "metadata": {},
   "outputs": [
    {
     "name": "stdout",
     "output_type": "stream",
     "text": [
      "0      1.67\n",
      "1      2.07\n",
      "2      2.04\n",
      "4      2.39\n",
      "5      2.15\n",
      "       ... \n",
      "121    2.42\n",
      "122    3.00\n",
      "125    2.61\n",
      "126    2.33\n",
      "127    2.36\n",
      "Name: cost_to_make, Length: 103, dtype: float64\n"
     ]
    }
   ],
   "source": [
    "#Don't edit this method\n",
    "def adjust_cost(cost):\n",
    "    return cost + 0.5\n",
    "\n",
    "#TODO: use apply() to adjust the cost_to_make column.\n",
    "\n",
    "cookies.cost_to_make = cookies.cost_to_make.apply(adjust_cost)\n",
    "print(cookies.cost_to_make)"
   ]
  },
  {
   "attachments": {},
   "cell_type": "markdown",
   "metadata": {},
   "source": [
    "And we can do a lot more things! We will see these concepts be used in the next homework assignment, along with a couple new ones to show you how powerful Pandas is."
   ]
  },
  {
   "attachments": {},
   "cell_type": "markdown",
   "metadata": {},
   "source": [
    "### More complicated operations: Grouping, Filtering, Aggregating"
   ]
  },
  {
   "cell_type": "markdown",
   "metadata": {},
   "source": [
    "Before trying out these complicated operations, lets first sort the sort the df by the radius of the cookies using the `sort_values()` function."
   ]
  },
  {
   "cell_type": "code",
   "execution_count": 57,
   "metadata": {},
   "outputs": [
    {
     "name": "stdout",
     "output_type": "stream",
     "text": [
      "110    4.930\n",
      "30     4.667\n",
      "60     4.573\n",
      "49     4.562\n",
      "101    4.519\n",
      "       ...  \n",
      "93     3.128\n",
      "0      3.102\n",
      "22     2.982\n",
      "32     2.952\n",
      "78     1.695\n",
      "Name: radius, Length: 103, dtype: float64\n"
     ]
    }
   ],
   "source": [
    "# TODO: sort the df using sort_values(by='Column', ascending=False)\n",
    "\n",
    "cookies = cookies.sort_values(by='radius', ascending=False)\n",
    "print(cookies.radius)"
   ]
  },
  {
   "attachments": {},
   "cell_type": "markdown",
   "metadata": {},
   "source": [
    "We may also want to group data by certain attributes. This can be done by using `groupby()`. This method takes in a column name, and groups the data by the values in that column. For example, we can group the data by the `cookie` column."
   ]
  },
  {
   "cell_type": "code",
   "execution_count": 58,
   "metadata": {},
   "outputs": [
    {
     "name": "stdout",
     "output_type": "stream",
     "text": [
      "                calories    radius  cost_to_make\n",
      "cookie                                          \n",
      "bbb           188.466667  3.914867      2.152667\n",
      "chocolate     221.416667  4.062833      2.210833\n",
      "laddoo        174.384615  3.849000      2.303077\n",
      "minty         186.266667  3.714467      1.938000\n",
      "nevadito      222.400000  3.959000      2.364667\n",
      "orange_ozuna  167.250000  3.506125      2.216250\n",
      "red           200.176471  4.106471      2.171765\n"
     ]
    }
   ],
   "source": [
    "#TODO: group by cookie type\n",
    "\n",
    "print(cookies.groupby('cookie').mean())"
   ]
  },
  {
   "attachments": {},
   "cell_type": "markdown",
   "metadata": {},
   "source": [
    "We can also group by multiple columns. For example, we can group the data by the `cookie` and `ingredients` columns."
   ]
  },
  {
   "cell_type": "code",
   "execution_count": 59,
   "metadata": {},
   "outputs": [
    {
     "name": "stdout",
     "output_type": "stream",
     "text": [
      "                                                                   calories  \\\n",
      "cookie       ingredients                                                      \n",
      "bbb          [\"flour\",\"blueberries\",\"sugar\",\"butter\"]            188.466667   \n",
      "chocolate    [\"flour\",\"chocolate chips\",\"sugar\",\"butter\"]        221.416667   \n",
      "laddoo       [\"flour\",\"lemon juice\",\"sugar\",\"ghee\"]              174.384615   \n",
      "minty        [\"flour\",\"mint extract\",\"sugar\",\"butter\"]           186.266667   \n",
      "nevadito     [\"flour\",\"chocolate chips\",\"milk\",\"vanilla extr...  222.400000   \n",
      "orange_ozuna [\"flour\",\"orange juice\",\"sugar\",\"vegetable oil\"]    167.250000   \n",
      "red          [\"flour\",\"cocoa powder\",\"butter\",\"red food colo...  200.176471   \n",
      "\n",
      "                                                                   radius  \\\n",
      "cookie       ingredients                                                    \n",
      "bbb          [\"flour\",\"blueberries\",\"sugar\",\"butter\"]            3.914867   \n",
      "chocolate    [\"flour\",\"chocolate chips\",\"sugar\",\"butter\"]        4.062833   \n",
      "laddoo       [\"flour\",\"lemon juice\",\"sugar\",\"ghee\"]              3.849000   \n",
      "minty        [\"flour\",\"mint extract\",\"sugar\",\"butter\"]           3.714467   \n",
      "nevadito     [\"flour\",\"chocolate chips\",\"milk\",\"vanilla extr...  3.959000   \n",
      "orange_ozuna [\"flour\",\"orange juice\",\"sugar\",\"vegetable oil\"]    3.506125   \n",
      "red          [\"flour\",\"cocoa powder\",\"butter\",\"red food colo...  4.106471   \n",
      "\n",
      "                                                                 cost_to_make  \n",
      "cookie       ingredients                                                       \n",
      "bbb          [\"flour\",\"blueberries\",\"sugar\",\"butter\"]                2.152667  \n",
      "chocolate    [\"flour\",\"chocolate chips\",\"sugar\",\"butter\"]            2.210833  \n",
      "laddoo       [\"flour\",\"lemon juice\",\"sugar\",\"ghee\"]                  2.303077  \n",
      "minty        [\"flour\",\"mint extract\",\"sugar\",\"butter\"]               1.938000  \n",
      "nevadito     [\"flour\",\"chocolate chips\",\"milk\",\"vanilla extr...      2.364667  \n",
      "orange_ozuna [\"flour\",\"orange juice\",\"sugar\",\"vegetable oil\"]        2.216250  \n",
      "red          [\"flour\",\"cocoa powder\",\"butter\",\"red food colo...      2.171765  \n"
     ]
    }
   ],
   "source": [
    "#TODO: group by cookie type and ingredients\n",
    "\n",
    "print(cookies.groupby(['cookie', 'ingredients']).mean())"
   ]
  },
  {
   "attachments": {},
   "cell_type": "markdown",
   "metadata": {},
   "source": [
    "We may also want to filter the data. For example, we can filter the data to only show the cookies that have a radius greater than 4.3 cm. We can do this by indexing the DataFrame with a boolean expression."
   ]
  },
  {
   "cell_type": "code",
   "execution_count": 60,
   "metadata": {},
   "outputs": [
    {
     "name": "stdout",
     "output_type": "stream",
     "text": [
      "           cookie                                        ingredients  \\\n",
      "110           red  [\"flour\",\"cocoa powder\",\"butter\",\"red food col...   \n",
      "30            red  [\"flour\",\"cocoa powder\",\"butter\",\"red food col...   \n",
      "60   orange_ozuna   [\"flour\",\"orange juice\",\"sugar\",\"vegetable oil\"]   \n",
      "49         laddoo             [\"flour\",\"lemon juice\",\"sugar\",\"ghee\"]   \n",
      "101        laddoo             [\"flour\",\"lemon juice\",\"sugar\",\"ghee\"]   \n",
      "97            red  [\"flour\",\"cocoa powder\",\"butter\",\"red food col...   \n",
      "87      chocolate       [\"flour\",\"chocolate chips\",\"sugar\",\"butter\"]   \n",
      "80      chocolate       [\"flour\",\"chocolate chips\",\"sugar\",\"butter\"]   \n",
      "72            red  [\"flour\",\"cocoa powder\",\"butter\",\"red food col...   \n",
      "88         laddoo             [\"flour\",\"lemon juice\",\"sugar\",\"ghee\"]   \n",
      "47          minty          [\"flour\",\"mint extract\",\"sugar\",\"butter\"]   \n",
      "29       nevadito  [\"flour\",\"chocolate chips\",\"milk\",\"vanilla ext...   \n",
      "62      chocolate       [\"flour\",\"chocolate chips\",\"sugar\",\"butter\"]   \n",
      "76            red  [\"flour\",\"cocoa powder\",\"butter\",\"red food col...   \n",
      "\n",
      "     calories  radius  cost_to_make  \n",
      "110       198   4.930          2.05  \n",
      "30        204   4.667          2.40  \n",
      "60        186   4.573          2.06  \n",
      "49        195   4.562          1.62  \n",
      "101       178   4.519          2.41  \n",
      "97        191   4.475          2.24  \n",
      "87        199   4.474          2.14  \n",
      "80        197   4.461          2.67  \n",
      "72        196   4.425          1.87  \n",
      "88        167   4.401          2.24  \n",
      "47        174   4.388          1.64  \n",
      "29        219   4.346          2.18  \n",
      "62        206   4.328          2.34  \n",
      "76        206   4.319          2.24  \n"
     ]
    }
   ],
   "source": [
    "#TODO: filter using the boolean expression\n",
    "\n",
    "print(cookies[cookies.radius > 4.3])\n"
   ]
  },
  {
   "attachments": {},
   "cell_type": "markdown",
   "metadata": {},
   "source": [
    "We may even want to use `groupby()` and filter idea together! For example, we can filter the data to only show the cookies that have a radius greater than 4.3 cm, and group the data by the `cookie` column."
   ]
  },
  {
   "cell_type": "code",
   "execution_count": 61,
   "metadata": {},
   "outputs": [
    {
     "name": "stdout",
     "output_type": "stream",
     "text": [
      "                calories  radius  cost_to_make\n",
      "cookie                                        \n",
      "chocolate     200.666667  4.4210      2.383333\n",
      "laddoo        180.000000  4.4940      2.090000\n",
      "minty         174.000000  4.3880      1.640000\n",
      "nevadito      219.000000  4.3460      2.180000\n",
      "orange_ozuna  186.000000  4.5730      2.060000\n",
      "red           199.000000  4.5632      2.160000\n"
     ]
    }
   ],
   "source": [
    "#TODO: filter the data using the boolean expression\n",
    "# then group by cookie column\n",
    "\n",
    "print(cookies[cookies.radius > 4.3].groupby('cookie').mean())"
   ]
  },
  {
   "attachments": {},
   "cell_type": "markdown",
   "metadata": {},
   "source": [
    "We may also want to aggregate the data. For example, we can aggregate the data by looking at the ratio of calories to radius. We can do this by using indexing and the `apply()` function."
   ]
  },
  {
   "cell_type": "code",
   "execution_count": 64,
   "metadata": {},
   "outputs": [],
   "source": [
    "#TODO: add a column to the dataframe that is the\n",
    "# calories per radius\n",
    "\n",
    "cookies['calories_per_radius'] = cookies.calories / cookies.radius"
   ]
  },
  {
   "attachments": {},
   "cell_type": "markdown",
   "metadata": {},
   "source": [
    "Or we can just get rid of this column if we find it useless. We can do this by using the `drop()` function or indexing."
   ]
  },
  {
   "cell_type": "code",
   "execution_count": 65,
   "metadata": {},
   "outputs": [],
   "source": [
    "#TODO: drop the created column\n",
    "\n",
    "cookies = cookies.drop(columns=['calories_per_radius'])"
   ]
  },
  {
   "attachments": {},
   "cell_type": "markdown",
   "metadata": {},
   "source": [
    "### Visualizing the data"
   ]
  },
  {
   "attachments": {},
   "cell_type": "markdown",
   "metadata": {},
   "source": [
    "We can also visualize the data. For example, we can visualize the data by plotting the radius of the cookies against the cost to make the cookies. We can do this by using the `plot()` function."
   ]
  },
  {
   "cell_type": "code",
   "execution_count": 66,
   "metadata": {},
   "outputs": [
    {
     "data": {
      "text/plain": [
       "<matplotlib.collections.PathCollection at 0x7f87b8f2bc40>"
      ]
     },
     "execution_count": 66,
     "metadata": {},
     "output_type": "execute_result"
    },
    {
     "data": {
      "image/png": "[encoded data removed]",
      "text/plain": [
       "<Figure size 640x480 with 1 Axes>"
      ]
     },
     "metadata": {},
     "output_type": "display_data"
    }
   ],
   "source": [
    "#TODO: plot the radius (x) versus cost to make (y)\n",
    "\n",
    "plt.scatter(cookies.radius, cookies.cost_to_make)"
   ]
  },
  {
   "attachments": {},
   "cell_type": "markdown",
   "metadata": {},
   "source": [
    "We may even want to get more specific and visualize the shape of a distribution of the `laddoo lemon`'s radius by making a boxplot. We can also do this by using the `plot()` function."
   ]
  },
  {
   "cell_type": "code",
   "execution_count": 67,
   "metadata": {},
   "outputs": [
    {
     "data": {
      "text/plain": [
       "<AxesSubplot:title={'center':'cost_to_make'}, xlabel='cookie'>"
      ]
     },
     "execution_count": 67,
     "metadata": {},
     "output_type": "execute_result"
    },
    {
     "data": {
      "image/png": "[encoded data removed]",
      "text/plain": [
       "<Figure size 640x480 with 1 Axes>"
      ]
     },
     "metadata": {},
     "output_type": "display_data"
    }
   ],
   "source": [
    "#TODO: add the described boxplot\n",
    "# remember that you changed the name from laddoo lemon to laddoo\n",
    "\n",
    "cookies[].boxplot(column='cost_to_make', by='cookie')"
   ]
  },
  {
   "attachments": {},
   "cell_type": "markdown",
   "metadata": {},
   "source": [
    "Alternatively, we can create a histogram to visualize the distribution of the `laddoo lemon`'s radius. We can also do this by using the `plot()` function."
   ]
  },
  {
   "cell_type": "code",
   "execution_count": 71,
   "metadata": {},
   "outputs": [
    {
     "data": {
      "text/plain": [
       "array([[<AxesSubplot:title={'center':'bbb'}>,\n",
       "        <AxesSubplot:title={'center':'chocolate'}>,\n",
       "        <AxesSubplot:title={'center':'laddoo'}>],\n",
       "       [<AxesSubplot:title={'center':'minty'}>,\n",
       "        <AxesSubplot:title={'center':'nevadito'}>,\n",
       "        <AxesSubplot:title={'center':'orange_ozuna'}>],\n",
       "       [<AxesSubplot:title={'center':'red'}>, <AxesSubplot:>,\n",
       "        <AxesSubplot:>]], dtype=object)"
      ]
     },
     "execution_count": 71,
     "metadata": {},
     "output_type": "execute_result"
    },
    {
     "data": {
      "image/png": "[encoded data removed]",
      "text/plain": [
       "<Figure size 640x480 with 9 Axes>"
      ]
     },
     "metadata": {},
     "output_type": "display_data"
    }
   ],
   "source": [
    "#TODO: add the described histogram\n",
    "\n",
    "cookies.hist(column='radius', by='cookie')"
   ]
  },
  {
   "attachments": {},
   "cell_type": "markdown",
   "metadata": {},
   "source": [
    "Things can get more complicated too. Maybe we want to analyze the behaviors of `bad berry bunny` and `laddoo lemon`'s radius using a boxplot. But this time, let's try it using the alternative `boxplot()` function. For practice, try doing it with `plot()` too!"
   ]
  },
  {
   "cell_type": "code",
   "execution_count": 44,
   "metadata": {},
   "outputs": [],
   "source": [
    "#TODO: analyze the two cookie's radius in a boxplot\n",
    "\n",
    "cookies.boxplot(column='radius', by='cookie')"
   ]
  },
  {
   "attachments": {},
   "cell_type": "markdown",
   "metadata": {},
   "source": [
    "### Practice Problems\n",
    "Now that you have learned some of Pandas' capabilities, let's try some practice problems! **This is the part that will be checked when you submit it!**"
   ]
  },
  {
   "attachments": {},
   "cell_type": "markdown",
   "metadata": {},
   "source": [
    "#### Problem 1\n",
    "How many cookies were made? (Hint: use the `shape` attribute)"
   ]
  },
  {
   "cell_type": "code",
   "execution_count": 73,
   "metadata": {},
   "outputs": [
    {
     "name": "stdout",
     "output_type": "stream",
     "text": [
      "(103, 5)\n"
     ]
    }
   ],
   "source": [
    "#Add your code here\n",
    "\n",
    "\n",
    "print(cookies.shape)\n"
   ]
  },
  {
   "attachments": {},
   "cell_type": "markdown",
   "metadata": {},
   "source": [
    "#### Problem 2\n",
    "Add a column to the DataFrame that has the value `True` if the cookie has a radius greater than 4 cm, and `False` otherwise. (Hint: use the `apply()` function)"
   ]
  },
  {
   "cell_type": "code",
   "execution_count": 77,
   "metadata": {},
   "outputs": [
    {
     "name": "stdout",
     "output_type": "stream",
     "text": [
      "False    62\n",
      "True     41\n",
      "Name: greater_than_4cm, dtype: int64\n"
     ]
    }
   ],
   "source": [
    "#Add your code here\n",
    "\n",
    "cookies['greater_than_4cm'] = cookies['radius'].apply(lambda x: True if x > 4 else False)\n",
    "print(cookies.greater_than_4cm.value_counts())\n"
   ]
  },
  {
   "attachments": {},
   "cell_type": "markdown",
   "metadata": {},
   "source": [
    "#### Problem 3\n",
    "\n",
    "Group the data by the `cookie` column, and find the average radius of each cookie. (Hint: use the `groupby()` and `transform()` function). Add this column to the DataFrame."
   ]
  },
  {
   "cell_type": "code",
   "execution_count": 78,
   "metadata": {},
   "outputs": [
    {
     "name": "stdout",
     "output_type": "stream",
     "text": [
      "                calories    radius  cost_to_make  greater_than_4cm\n",
      "cookie                                                            \n",
      "bbb           188.466667  3.914867      2.152667          0.400000\n",
      "chocolate     221.416667  4.062833      2.210833          0.666667\n",
      "laddoo        174.384615  3.849000      2.303077          0.461538\n",
      "minty         186.266667  3.714467      1.938000          0.133333\n",
      "nevadito      222.400000  3.959000      2.364667          0.466667\n",
      "orange_ozuna  167.250000  3.506125      2.216250          0.187500\n",
      "red           200.176471  4.106471      2.171765          0.529412\n"
     ]
    }
   ],
   "source": [
    "#Add your code here\n",
    "\n",
    "print(cookies.groupby('cookie').mean());"
   ]
  },
  {
   "attachments": {},
   "cell_type": "markdown",
   "metadata": {},
   "source": [
    "#### Problem 4\n",
    "Create a new DataFrame that only contains the cookies that have the ingredient `\"chocolate chips\"`. (Hint: use the `str.contains()` function)"
   ]
  },
  {
   "cell_type": "code",
   "execution_count": 81,
   "metadata": {},
   "outputs": [
    {
     "name": "stdout",
     "output_type": "stream",
     "text": [
      "        cookie                                        ingredients  calories  \\\n",
      "87   chocolate       [\"flour\",\"chocolate chips\",\"sugar\",\"butter\"]       199   \n",
      "80   chocolate       [\"flour\",\"chocolate chips\",\"sugar\",\"butter\"]       197   \n",
      "29    nevadito  [\"flour\",\"chocolate chips\",\"milk\",\"vanilla ext...       219   \n",
      "62   chocolate       [\"flour\",\"chocolate chips\",\"sugar\",\"butter\"]       206   \n",
      "55   chocolate       [\"flour\",\"chocolate chips\",\"sugar\",\"butter\"]       229   \n",
      "48   chocolate       [\"flour\",\"chocolate chips\",\"sugar\",\"butter\"]       240   \n",
      "94   chocolate       [\"flour\",\"chocolate chips\",\"sugar\",\"butter\"]       243   \n",
      "64    nevadito  [\"flour\",\"chocolate chips\",\"milk\",\"vanilla ext...       211   \n",
      "107  chocolate       [\"flour\",\"chocolate chips\",\"sugar\",\"butter\"]       222   \n",
      "36    nevadito  [\"flour\",\"chocolate chips\",\"milk\",\"vanilla ext...       211   \n",
      "71    nevadito  [\"flour\",\"chocolate chips\",\"milk\",\"vanilla ext...       214   \n",
      "121  chocolate       [\"flour\",\"chocolate chips\",\"sugar\",\"butter\"]       227   \n",
      "2     nevadito  [\"flour\",\"chocolate chips\",\"milk\",\"vanilla ext...       224   \n",
      "19    nevadito  [\"flour\",\"chocolate chips\",\"milk\",\"vanilla ext...       236   \n",
      "82    nevadito  [\"flour\",\"chocolate chips\",\"milk\",\"vanilla ext...       253   \n",
      "125   nevadito  [\"flour\",\"chocolate chips\",\"milk\",\"vanilla ext...       211   \n",
      "114  chocolate       [\"flour\",\"chocolate chips\",\"sugar\",\"butter\"]       226   \n",
      "50    nevadito  [\"flour\",\"chocolate chips\",\"milk\",\"vanilla ext...       220   \n",
      "10    nevadito  [\"flour\",\"chocolate chips\",\"milk\",\"vanilla ext...       216   \n",
      "69   chocolate       [\"flour\",\"chocolate chips\",\"sugar\",\"butter\"]       216   \n",
      "89    nevadito  [\"flour\",\"chocolate chips\",\"milk\",\"vanilla ext...       249   \n",
      "102   nevadito  [\"flour\",\"chocolate chips\",\"milk\",\"vanilla ext...       229   \n",
      "96    nevadito  [\"flour\",\"chocolate chips\",\"milk\",\"vanilla ext...       230   \n",
      "43    nevadito  [\"flour\",\"chocolate chips\",\"milk\",\"vanilla ext...       205   \n",
      "7    chocolate       [\"flour\",\"chocolate chips\",\"sugar\",\"butter\"]       243   \n",
      "57    nevadito  [\"flour\",\"chocolate chips\",\"milk\",\"vanilla ext...       208   \n",
      "17   chocolate       [\"flour\",\"chocolate chips\",\"sugar\",\"butter\"]       209   \n",
      "\n",
      "     radius  cost_to_make  greater_than_4cm  \n",
      "87    4.474          2.14              True  \n",
      "80    4.461          2.67              True  \n",
      "29    4.346          2.18              True  \n",
      "62    4.328          2.34              True  \n",
      "55    4.217          2.19              True  \n",
      "48    4.212          1.97              True  \n",
      "94    4.207          2.14              True  \n",
      "64    4.205          2.19              True  \n",
      "107   4.186          1.86              True  \n",
      "36    4.152          2.72              True  \n",
      "71    4.141          2.37              True  \n",
      "121   4.085          2.42              True  \n",
      "2     4.069          2.04              True  \n",
      "19    4.043          2.29              True  \n",
      "82    4.043          2.12              True  \n",
      "125   3.915          2.61             False  \n",
      "114   3.894          1.95             False  \n",
      "50    3.855          3.21             False  \n",
      "10    3.848          2.28             False  \n",
      "69    3.824          2.15             False  \n",
      "89    3.819          2.13             False  \n",
      "102   3.802          2.79             False  \n",
      "96    3.788          2.16             False  \n",
      "43    3.776          1.96             False  \n",
      "7     3.684          2.17             False  \n",
      "57    3.583          2.42             False  \n",
      "17    3.182          2.53             False  \n"
     ]
    }
   ],
   "source": [
    "#Add your code here\n",
    "\n",
    "df = pd.DataFrame(cookies)\n",
    "\n",
    "chocolate_chip_cookies = df[cookies['ingredients'].str.contains('chocolate chips')]\n",
    "print(chocolate_chip_cookies)\n",
    "\n"
   ]
  },
  {
   "attachments": {},
   "cell_type": "markdown",
   "metadata": {},
   "source": [
    "#### Problem 5\n",
    "\n",
    "Create a boxplot of `cost_to_make` for all cookies except `chocolate` using the `boxplot()` function."
   ]
  },
  {
   "cell_type": "code",
   "execution_count": 86,
   "metadata": {},
   "outputs": [
    {
     "name": "stdout",
     "output_type": "stream",
     "text": [
      "        cookie                                        ingredients  calories  \\\n",
      "87   chocolate       [\"flour\",\"chocolate chips\",\"sugar\",\"butter\"]       199   \n",
      "80   chocolate       [\"flour\",\"chocolate chips\",\"sugar\",\"butter\"]       197   \n",
      "29    nevadito  [\"flour\",\"chocolate chips\",\"milk\",\"vanilla ext...       219   \n",
      "62   chocolate       [\"flour\",\"chocolate chips\",\"sugar\",\"butter\"]       206   \n",
      "55   chocolate       [\"flour\",\"chocolate chips\",\"sugar\",\"butter\"]       229   \n",
      "48   chocolate       [\"flour\",\"chocolate chips\",\"sugar\",\"butter\"]       240   \n",
      "94   chocolate       [\"flour\",\"chocolate chips\",\"sugar\",\"butter\"]       243   \n",
      "64    nevadito  [\"flour\",\"chocolate chips\",\"milk\",\"vanilla ext...       211   \n",
      "107  chocolate       [\"flour\",\"chocolate chips\",\"sugar\",\"butter\"]       222   \n",
      "36    nevadito  [\"flour\",\"chocolate chips\",\"milk\",\"vanilla ext...       211   \n",
      "71    nevadito  [\"flour\",\"chocolate chips\",\"milk\",\"vanilla ext...       214   \n",
      "121  chocolate       [\"flour\",\"chocolate chips\",\"sugar\",\"butter\"]       227   \n",
      "2     nevadito  [\"flour\",\"chocolate chips\",\"milk\",\"vanilla ext...       224   \n",
      "19    nevadito  [\"flour\",\"chocolate chips\",\"milk\",\"vanilla ext...       236   \n",
      "82    nevadito  [\"flour\",\"chocolate chips\",\"milk\",\"vanilla ext...       253   \n",
      "125   nevadito  [\"flour\",\"chocolate chips\",\"milk\",\"vanilla ext...       211   \n",
      "114  chocolate       [\"flour\",\"chocolate chips\",\"sugar\",\"butter\"]       226   \n",
      "50    nevadito  [\"flour\",\"chocolate chips\",\"milk\",\"vanilla ext...       220   \n",
      "10    nevadito  [\"flour\",\"chocolate chips\",\"milk\",\"vanilla ext...       216   \n",
      "69   chocolate       [\"flour\",\"chocolate chips\",\"sugar\",\"butter\"]       216   \n",
      "89    nevadito  [\"flour\",\"chocolate chips\",\"milk\",\"vanilla ext...       249   \n",
      "102   nevadito  [\"flour\",\"chocolate chips\",\"milk\",\"vanilla ext...       229   \n",
      "96    nevadito  [\"flour\",\"chocolate chips\",\"milk\",\"vanilla ext...       230   \n",
      "43    nevadito  [\"flour\",\"chocolate chips\",\"milk\",\"vanilla ext...       205   \n",
      "7    chocolate       [\"flour\",\"chocolate chips\",\"sugar\",\"butter\"]       243   \n",
      "57    nevadito  [\"flour\",\"chocolate chips\",\"milk\",\"vanilla ext...       208   \n",
      "17   chocolate       [\"flour\",\"chocolate chips\",\"sugar\",\"butter\"]       209   \n",
      "\n",
      "     radius  cost_to_make  greater_than_4cm  \n",
      "87    4.474          2.14              True  \n",
      "80    4.461          2.67              True  \n",
      "29    4.346          2.18              True  \n",
      "62    4.328          2.34              True  \n",
      "55    4.217          2.19              True  \n",
      "48    4.212          1.97              True  \n",
      "94    4.207          2.14              True  \n",
      "64    4.205          2.19              True  \n",
      "107   4.186          1.86              True  \n",
      "36    4.152          2.72              True  \n",
      "71    4.141          2.37              True  \n",
      "121   4.085          2.42              True  \n",
      "2     4.069          2.04              True  \n",
      "19    4.043          2.29              True  \n",
      "82    4.043          2.12              True  \n",
      "125   3.915          2.61             False  \n",
      "114   3.894          1.95             False  \n",
      "50    3.855          3.21             False  \n",
      "10    3.848          2.28             False  \n",
      "69    3.824          2.15             False  \n",
      "89    3.819          2.13             False  \n",
      "102   3.802          2.79             False  \n",
      "96    3.788          2.16             False  \n",
      "43    3.776          1.96             False  \n",
      "7     3.684          2.17             False  \n",
      "57    3.583          2.42             False  \n",
      "17    3.182          2.53             False  \n"
     ]
    }
   ],
   "source": [
    "#Add your code here\n",
    "cookie_without_chocolate = df[cookies.ingredients.str.contains('chocolate chips')]\n",
    "print(cookie_without_chocolate)\n"
   ]
  },
  {
   "attachments": {},
   "cell_type": "markdown",
   "metadata": {},
   "source": [
    "#### Problem 6\n",
    "\n",
    "Create a histogram of the `bad berry bunny`'s calories using the `plot()` function."
   ]
  },
  {
   "cell_type": "code",
   "execution_count": 89,
   "metadata": {},
   "outputs": [
    {
     "name": "stdout",
     "output_type": "stream",
     "text": [
      "127    199\n",
      "38     182\n",
      "4      191\n",
      "91     186\n",
      "111    171\n",
      "45     213\n",
      "84     185\n",
      "98     208\n",
      "52     184\n",
      "118    177\n",
      "12     183\n",
      "77     172\n",
      "59     193\n",
      "66     199\n",
      "22     184\n",
      "Name: calories, dtype: int64\n"
     ]
    },
    {
     "data": {
      "image/png": "[encoded data removed]",
      "text/plain": [
       "<Figure size 640x480 with 1 Axes>"
      ]
     },
     "metadata": {},
     "output_type": "display_data"
    }
   ],
   "source": [
    "#Add your code here\n",
    "\n",
    "bad_berry_bunny_calories = cookies[cookies['cookie'] == 'bbb']['calories']\n",
    "print(bad_berry_bunny_calories)\n",
    "plot = bad_berry_bunny_calories.plot(kind='hist', bins=10, title='Bad Berry Bunny Calories', legend=True)\n"
   ]
  },
  {
   "cell_type": "markdown",
   "metadata": {},
   "source": [
    "#### Problem 7\n",
    "\n",
    "Calculate the average calories per cookie type and display the result in a bar chart."
   ]
  },
  {
   "cell_type": "code",
   "execution_count": 92,
   "metadata": {},
   "outputs": [
    {
     "data": {
      "image/png": "[encoded data removed]",
      "text/plain": [
       "<Figure size 640x480 with 1 Axes>"
      ]
     },
     "metadata": {},
     "output_type": "display_data"
    }
   ],
   "source": [
    "#Add your code here\n",
    "\n",
    "avg_cal = cookies.groupby('cookie').mean()\n",
    "avg_cal.calories.plot(kind='bar', color='skyblue', edgecolor='black', alpha=0.7)\n",
    "plt.title('Average Calories per Cookie Type')\n",
    "plt.xlabel('Cookie Type')\n",
    "plt.ylabel('Average Calories')\n",
    "plt.xticks(rotation=45)\n",
    "plt.grid(axis='y')\n",
    "plt.tight_layout()\n",
    "plt.show()\n"
   ]
  },
  {
   "cell_type": "markdown",
   "metadata": {},
   "source": [
    "#### Problem 8\n",
    "\n",
    "Find the top 3 most expensive cookies in terms of cost_to_make"
   ]
  },
  {
   "cell_type": "code",
   "execution_count": 95,
   "metadata": {},
   "outputs": [
    {
     "name": "stdout",
     "output_type": "stream",
     "text": [
      "                calories    radius  cost_to_make  greater_than_4cm\n",
      "cookie                                                            \n",
      "nevadito      222.400000  3.959000      2.364667          0.466667\n",
      "laddoo        174.384615  3.849000      2.303077          0.461538\n",
      "orange_ozuna  167.250000  3.506125      2.216250          0.187500\n"
     ]
    }
   ],
   "source": [
    "#Add your code here\n",
    "\n",
    "avg = cookies.groupby('cookie').mean()\n",
    "top_3_expensive = avg.sort_values(by='cost_to_make', ascending=False).head(3)\n",
    "print(top_3_expensive)\n",
    "\n"
   ]
  }
 ],
 "metadata": {
  "kernelspec": {
   "display_name": "Python 3",
   "language": "python",
   "name": "python3"
  },
  "language_info": {
   "codemirror_mode": {
    "name": "ipython",
    "version": 3
   },
   "file_extension": ".py",
   "mimetype": "text/x-python",
   "name": "python",
   "nbconvert_exporter": "python",
   "pygments_lexer": "ipython3",
   "version": "3.8.5"
  },
  "orig_nbformat": 4,
  "vscode": {
   "interpreter": {
    "hash": "63639127d0784e8e4de1a76bcacd89583be09d9f82d600966cd9457d183cbbf7"
   }
  }
 },
 "nbformat": 4,
 "nbformat_minor": 2
}
